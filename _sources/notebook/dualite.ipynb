{
 "cells": [
  {
   "cell_type": "markdown",
   "id": "5ed1e3d0",
   "metadata": {},
   "source": [
    "# Dualité onde-corpuscule\n",
    "\n",
    "## Ondes et corpuscules en mécanique classique\n",
    "\n",
    "````{admonition} Bilan \n",
    ":class: attention\n",
    "\n",
    "On se propose ici de faire rapidement un bilan sur les concepts d'ondes et de corpuscule en mécanique classique.\n",
    "\n",
    "* Rappeler brièvement les propriétés physiques qu'on associe à un corpuscule.\n",
    "* Rappeler brièvement les propriétés physiques qu'on associe à une onde.\n",
    "* Classer les objets physiques ci-après suivant qu'ils soient des corpuscules ou des ondes __dans la théorie classique.__ \n",
    "    * Electrons\n",
    "    * Atomes\n",
    "    * Lumière\n",
    "````\n",
    "````{important} __A retenir...__\n",
    "\n",
    "On retiendra qu'en mécanique classique, les objets physiques sont soit des corpuscules, soit des ondes.\n",
    "\n",
    "Attention, cela n'empêche pas l'interaction entre les deux types d'objets. Ainsi, la théorie classique prévoit l'interaction entre la matière et la lumière\n",
    "````\n",
    "\n",
    "## Expériences importantes\n",
    "\n",
    "### Effet photoélectrique\n",
    "\n",
    "Observer la vidéo suivante  appelée \"Effet photoélectrique - Présentation\" dans la partie mécanique quantique.\n",
    "\n",
    "__Effet photoélectrique - Présentation.__"
   ]
  },
  {
   "cell_type": "code",
   "execution_count": 1,
   "id": "bbe2b17e",
   "metadata": {
    "tags": [
     "remove-input"
    ]
   },
   "outputs": [
    {
     "data": {
      "text/html": [
       "<video src=\"https://github.com/pcsi3physiquestan/videos_physique/blob/main/photoelectrique_presentation-converted.mp4?raw=true\" controls  width=\"640\" >\n",
       "      Your browser does not support the <code>video</code> element.\n",
       "    </video>"
      ],
      "text/plain": [
       "<IPython.core.display.Video object>"
      ]
     },
     "execution_count": 1,
     "metadata": {},
     "output_type": "execute_result"
    }
   ],
   "source": [
    "from IPython.display import Video\n",
    "Video(\"https://github.com/pcsi3physiquestan/videos_physique/blob/main/photoelectrique_presentation-converted.mp4?raw=true\", width=640)"
   ]
  },
  {
   "cell_type": "markdown",
   "id": "32a39bf5",
   "metadata": {},
   "source": [
    "````{admonition} Analyse de l'expérience \n",
    ":class: attention\n",
    "\n",
    "1. Pourquoi les électrons ne peut aller sans éclairage de l'armature négative vers l'armature positive ? Traduire cela en traçant __l'allure__  de l'énergie potentielle des électrons d'une armature à l'autre .\n",
    "1. Que faut-il simplement pour que les électrons franchissent la barrière de potentiel mise en évidence à la question précédente ? Comment est-ce réalisé ici ? Expliquer ainsi ce qu'est l'effet photoélectrique .\n",
    "1. Du point de vue classique (ondulatoire) de la lumière, peut-on expliquer l'effet photoélectrique présenté dans la vidéo de présentation.\n",
    "    1. Regarder maintenant les deux vidéos suivantes appelées \"Effet photoélectrique - Effet de seuil\" et \"Effet photoélectrique - Effet de seuil et intensité\". Expliquer pourquoi de telles observations sont contradictoires avec la vision classique de la lumière .\n",
    "    1. Dans la vision quantique, la lumière est __aussi__  composée corpusculaire, c'est à dire composée de quantas de lumière appelés photons dont l'énergie dépend de la fréquence $\\nu$ du rayonnement : $E_{photon} = h \\nu$ (relation de Planck-Einstein) où h est la constante dite de Planck ($h = 6,63 \\times 10^{-34} \\rm{J.s}$. Interprêter l'effet photoélectrique grâce à la notion de photon .\n",
    "    1. Expliquer pourquoi cette vision corpusculaire permet d'expliquer l'existence d'un effet de seuil.\n",
    "1. On donne le potentiel d'extraction du Sodium, c'est-à-dire l'énergie minimale nécessaire pour libérer des électrons de l'armature. $W_S = 2.5 eV$. Comparer la fréquence seuil des photons associées avec celle observée dans la vidéo \"Effet photoélectrique - Influence du matériau\". A l'inverse, estimer le potentiel d'extraction du Zinc et du Calcium.\n",
    "````\n",
    "\n",
    "__Effet photoélectrique - Effet de seuil.__"
   ]
  },
  {
   "cell_type": "code",
   "execution_count": 2,
   "id": "a2fa3ff4",
   "metadata": {
    "tags": [
     "remove-input"
    ]
   },
   "outputs": [
    {
     "data": {
      "text/html": [
       "<video src=\"https://github.com/pcsi3physiquestan/videos_physique/blob/main/photoelectrique_seuil-converted.mp4?raw=true\" controls  width=\"640\" >\n",
       "      Your browser does not support the <code>video</code> element.\n",
       "    </video>"
      ],
      "text/plain": [
       "<IPython.core.display.Video object>"
      ]
     },
     "execution_count": 2,
     "metadata": {},
     "output_type": "execute_result"
    }
   ],
   "source": [
    "from IPython.display import Video\n",
    "Video(\"https://github.com/pcsi3physiquestan/videos_physique/blob/main/photoelectrique_seuil-converted.mp4?raw=true\", width=640)"
   ]
  },
  {
   "cell_type": "markdown",
   "id": "65b666c3",
   "metadata": {},
   "source": [
    "__Effet photoélectrique - Effet de seuil et intensité.__"
   ]
  },
  {
   "cell_type": "code",
   "execution_count": 3,
   "id": "98964c99",
   "metadata": {
    "tags": [
     "remove-input"
    ]
   },
   "outputs": [
    {
     "data": {
      "text/html": [
       "<video src=\"https://github.com/pcsi3physiquestan/videos_physique/blob/main/photoelectrique_intensite-converted.mp4?raw=true\" controls  width=\"640\" >\n",
       "      Your browser does not support the <code>video</code> element.\n",
       "    </video>"
      ],
      "text/plain": [
       "<IPython.core.display.Video object>"
      ]
     },
     "execution_count": 3,
     "metadata": {},
     "output_type": "execute_result"
    }
   ],
   "source": [
    "from IPython.display import Video\n",
    "Video(\"https://github.com/pcsi3physiquestan/videos_physique/blob/main/photoelectrique_intensite-converted.mp4?raw=true\", width=640)"
   ]
  },
  {
   "cell_type": "markdown",
   "id": "49cf2b50",
   "metadata": {},
   "source": [
    "__Effet photoélectrique - Influence du matériau.__"
   ]
  },
  {
   "cell_type": "code",
   "execution_count": 4,
   "id": "4a0c8ab6",
   "metadata": {
    "tags": [
     "remove-input"
    ]
   },
   "outputs": [
    {
     "data": {
      "text/html": [
       "<video src=\"https://github.com/pcsi3physiquestan/videos_physique/blob/main/photoelectrique_materiau-converted.mp4?raw=true\" controls  width=\"640\" >\n",
       "      Your browser does not support the <code>video</code> element.\n",
       "    </video>"
      ],
      "text/plain": [
       "<IPython.core.display.Video object>"
      ]
     },
     "execution_count": 4,
     "metadata": {},
     "output_type": "execute_result"
    }
   ],
   "source": [
    "from IPython.display import Video\n",
    "Video(\"https://github.com/pcsi3physiquestan/videos_physique/blob/main/photoelectrique_materiau-converted.mp4?raw=true\", width=640)"
   ]
  },
  {
   "cell_type": "markdown",
   "id": "26d01c32",
   "metadata": {},
   "source": [
    "````{important} __Le photon__\n",
    "\n",
    "On retiendra que le modèle corpusculaire de la lumière décrit la décrit comme un ensemble de \"quantas de lumière\" appelée photons. Ces derniers ont les caractéristiques suivantes :\n",
    "\n",
    "\n",
    "* Leur énergie est (relation de Planck-Einstein) : $E = h \\nu$ où h est la constante de Planck et $\\nu$ la fréquence du rayonnement .\n",
    "* Leur charge électrique est nulle* Leur masse est nulle* Leur vitesse est toujours la vitesse de la lumière : ce sont des particules relativistes .\n",
    "* Leur quantité de mouvement est $\\overrightarrow{p} = \\frac{h}{\\lambda}\\overrightarrow{u} = \\hbar \\overrightarrow{k}$ où $\\hbar = \\frac{h}{2 \\pi}$, $\\overrightarrow{u}$ est un vecteur unitaire dans la direction et le sens de propagation de la lumière et $\\overrightarrow{k} = \\frac{2\\pi}{\\lambda} \\overrightarrow{u}$.\n",
    "````\n",
    "\n",
    "### Diffraction et interférences de la matière\n",
    "\n",
    "````{admonition} Analyse d'expérience \n",
    ":class: attention\n",
    "\n",
    "En 1927 Thomson de son côté et Davisson et Gerner du leur réalisent un expérience de diffraction d'un faisceau d'électrons par une fente fine ou un cristal. Depuis, des expériences de diffraction pour des atomes et molécules ont été réalisées.\n",
    "\n",
    "Depuis 1989, on a aussi réalisé des expériences d'interférences de matière (électron 1989, Hélium 1991, fullerènes 1999). Il s'agit de la \" classique \" expérience des fentes d'Young. Notons néanmoins que sa réalisation pratique pour de la matière est plus complexe que pour la lumière.\n",
    "\n",
    "1. Si l'on considère que les électrons sont uniquement des corpuscules (vision classique), expliquez pourquoi on ne peut obtenir de figure d'interférences (Remarque: ces observations expliquent aussi pourquoi le modèle purement corpusculaire de la lumière n'est pas valable) .\n",
    "1. Dans leur expérience, Davisson et Gerner bombardèrent du nickel (paramètre de maille $a = 0.215 nm$) avec des électrons. La formule de Bragg permet de relier l'angle de diffraction aux paramètres de l'expérience: $2a \\sin \\theta = \\lambda$. Ils mesurèrent un angle de $50 ^{\\circ}$. Estimer ainsi la longueur d'onde des électrons puis leur énergie .\n",
    "1. En réalité, l'énergie des électrons était de 54eV. Expliquer les causes possibles de cet écart.\n",
    "````\n",
    "\n",
    "````{important} __Dualité onde-corpuscule de la matière.__\n",
    "\n",
    "On retiendra que d'un point de vue quantique, on peut associer un caractère corpusculaire associé à une énergie E et une quantité de mouvement $\\overrightarrow{p}$ ET un caractère ondulatoire associé à une longueur d'onde $\\lambda$ (ou de vecteur d'onde ) et une fréquence $f$ (ou une pulsation $\\omega$). Les deux aspects de la particule sont reliées par la relation de de Broglie:\n",
    "\n",
    "$$\n",
    "\\overrightarrow{p} = \\hbar \\overrightarrow{k} = \\frac{h}{\\lambda}\\overrightarrow{u}\n",
    "$$\n",
    "où $\\overrightarrow{u}$ est la direction de propagation de la lumière.\n",
    "````\n",
    "\n",
    "```{topic} Longueur d'onde et masse\n",
    "\n",
    "Dans le cas de particules matérielles, la quantité de mouvement s'écrit $\\overrightarrow{p} = m \\overrightarrow{v}$ donc plus la masse est grande, plus la longueur d'onde est faible. Comme on le verra avec les critères quantiques, cela rejoint l'idée que plus le système est gros, moins le traitement quantique est nécessaire.\n",
    "```\n",
    "\n",
    "## La dualité onde-corpuscule\n",
    "\n",
    "### Interférences électrons à électrons.\n",
    "\n",
    "````{admonition} Analyse de l'expérience \n",
    ":class: attention\n",
    "\n",
    "Observer la vidéo suivante sur une expérience d'interférences électrons par électrons expliquer l'aspect dual de l'interprétation ondes-corpuscules de la matière.\n",
    "\n",
    "````"
   ]
  },
  {
   "cell_type": "code",
   "execution_count": 5,
   "id": "39335fa3",
   "metadata": {
    "tags": [
     "remove-input"
    ]
   },
   "outputs": [
    {
     "data": {
      "text/html": [
       "<video src=\"https://github.com/pcsi3physiquestan/videos_physique/blob/main/interference_electron.mp4?raw=true\" controls  width=\"640\" >\n",
       "      Your browser does not support the <code>video</code> element.\n",
       "    </video>"
      ],
      "text/plain": [
       "<IPython.core.display.Video object>"
      ]
     },
     "execution_count": 5,
     "metadata": {},
     "output_type": "execute_result"
    }
   ],
   "source": [
    "from IPython.display import Video\n",
    "Video(\"https://github.com/pcsi3physiquestan/videos_physique/blob/main/interference_electron.mp4?raw=true\", width=640)"
   ]
  },
  {
   "cell_type": "markdown",
   "id": "5c9f0671",
   "metadata": {},
   "source": [
    "### Critères quantiques\n",
    "\n",
    "````{topic} Introduction\n",
    "Nous avons évoqué le parallèle entre la mécanique classique-quantique et l'optique géométrique-ondulatoire. Ce parallèle est d'autant plus important qu'il va nous permettre de situer si les effets quantiques doivent nécessairement être pris en compte ou non. Rappelons par exemple que la loi de Dulong-Petit (approche classique) est largement valable à température ambiante. Elle ne l'est plus à basse température. Cela signifie que l'approche quantique n'est pas nécessaire à température ambiante, elle le devient à basse température.\n",
    "````\n",
    "\n",
    "````{important} __Crtière sur la longueur d'onde__\n",
    "\n",
    "Par analogie avec l'approximation de l'optique géométrique, on peut considérer que l'approche de la mécanique classique reste valable tant que les dimensions du corps considéré sont grandes devant la longueur d'onde de de Broglie associé au système.\n",
    "````\n",
    "\n",
    "````{topic} Inconvénient\n",
    "L'inconvénient du critère précédent est qu'il demande de comparer deux caractéristiques du corps. On peut chercher à se ramener à une comparaison avec une constante fondamentale (à l'image de la comparaison avec la célérité de la lumière pour décider d'un traitement relativiste). Ici, la constante fondamentale adaptée est __la constante de Planck__  $h$. En effet le critère sur la longueur d'onde peut se réécrire: $a >> \\lambda = \\frac{h}{p}$ soit $ap >> h$.\n",
    "````\n",
    "\n",
    "````{sidebar} Action d'un système\n",
    "L'action est définie (pas à connaître) comme l'intégale temporelle de l'énergie.\n",
    "\n",
    "Le plus important est de savoir qu'elle a la dimension d'une position multipliée par une quantitée de mouvement, soit aussi celle d'un moment cinétique.\n",
    "\n",
    "Une _action carcatéristique_ est donc une grandeur caractéristique du système possédant la même dimension.\n",
    "````\n",
    "````{important} __Critère sur l'action__\n",
    "\n",
    "Le traitement classique reste valable tant que l'action caractéristique $S$ du système est grande devant la constante de Planck.\n",
    "````\n",
    "\n",
    "### Méthode - Utilisation du critère quantique\n",
    "\n",
    "````{admonition} Exercice \n",
    ":class: attention\n",
    "\n",
    "1. En utilisant le critère sur la longueur d'onde, expliquer pourquoi un homme qui marche ne nécessite pas un traitement quantique .\n",
    "1. En utilisant le critère sur l'action, justifier qu'une planète gravitant autour d'un Soleil ne nécessite pas un traitement quantique mais qu'un électron autour d'un noyau le nécessite.\n",
    "````\n",
    "\n",
    "## Entrainement\n",
    "\n",
    "````{admonition} Ordres de grandeur \n",
    ":class: attention\n",
    "\n",
    "1. Estimer la quantité de photons reçus par seconde par une photo-cathode de surface $S = 1 \\rm{cm^{2}}$ exposée au rayonnement d'un lampe au sodium ($\\lambda = 589 \\rm{nm}$) ponctuelle émettant avec une puissance $P=15\\rm{W}$ à une distance $d=1\\rm{m}$ .\n",
    "1. Estimer la quantité de photons reçus par seconde par la pupille dilatée d'un humain regardant une étoile de rayon $R = 10^5 \\rm{km}$ émettant principalement dans le rouge comme un corps noir et située à une distance de 20 années lumières. On sait que:\n",
    "    * Pour un corps noir, la puissance rayonnée par unité de surface du corps noir __à sa surface__ est $P_S = \\sigma T^4$ avec $\\sigma = 5.7 \\times 10^{-8} \\rm{W.m^{-2}.K^{-4}}$ est la constante de Stefan.\n",
    "    * La longueur d'onde correspondant au maximum d'émission est reliée à la température du corps noir par la loi de déplacement de Wien: $\\lambda_{max} T = cste = 0.2898 \\rm{K.cm}$\n",
    "1. Commenter la difficulté d'obtenir une éclairement \"un photon par un photon\".\n",
    "````\n",
    "_Point utile pour cet exercice_\n",
    "* _$\\Longrightarrow$ Relation de Planck-Einstein._\n",
    "\n",
    "````{admonition} Pression de radiation \n",
    ":class: attention\n",
    "\n",
    "Soit un faisceau monochromatique de puissance surfacique $P_S$ et de longueur d'onde $\\lambda$ se réfléchissant sur un miroir parfait avec un angle $\\theta$. Par un bilan de quantité de mouvement sur les photons, déterminer la pression (appelée pression de radiation) exercée par le faisceau lumineux sur le miroir. On supposera le milieu environnant assimilable au vide.\n",
    "\n",
    "````\n",
    "_Point utile pour cet exercice_\n",
    "* _$\\Longrightarrow$ Relation de Planck-Einstein._\n",
    "* _$\\Longrightarrow$ Pression cinétique._"
   ]
  }
 ],
 "metadata": {
  "jupytext": {
   "encoding": "# -*- coding: utf-8 -*-",
   "formats": "ipynb,md:myst",
   "split_at_heading": true,
   "text_representation": {
    "extension": ".md",
    "format_name": "myst",
    "format_version": 0.13,
    "jupytext_version": "1.10.3"
   }
  },
  "kernelspec": {
   "display_name": "Python 3",
   "language": "python",
   "name": "python3"
  },
  "language_info": {
   "codemirror_mode": {
    "name": "ipython",
    "version": 3
   },
   "file_extension": ".py",
   "mimetype": "text/x-python",
   "name": "python",
   "nbconvert_exporter": "python",
   "pygments_lexer": "ipython3",
   "version": "3.9.15"
  },
  "source_map": [
   15,
   46,
   52,
   67,
   73,
   76,
   82,
   85,
   91,
   144,
   150
  ]
 },
 "nbformat": 4,
 "nbformat_minor": 5
}